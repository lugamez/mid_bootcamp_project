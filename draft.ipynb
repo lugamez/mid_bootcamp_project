{
 "cells": [
  {
   "cell_type": "markdown",
   "id": "9a3f5185",
   "metadata": {},
   "source": [
    "Definition of first steps to create a machine learning model\n",
    "\n",
    "Split the df in two, one numerical, one categorical\n",
    "numerical: bmi and sleep_hours\n",
    "Drop any ID column if there is one\n",
    "Round values if needed for clarity\n",
    "Get the correlation matrix for the numerical variables\n",
    "Plot two graphs for numerical -> barplot for sleep hours and histogram for bmi (check first the amount of nunique) if above 36 then histogram\n",
    "This is done to get an idea of how the data looks like and if there will be skewness -> even better we could plot the histogram that shares the box plot\n",
    "Categoricals: Definitely plot the using the function def count_plot_sorted(df: pd.DataFrame, optional_arg = 6) -> None Check the cardinality for the categorical columns -> if high, group\n",
    "Numericals: BMI is continuous, depending of its skewness, apply outliers removal\n",
    "concat: concat_df = pd.concat([continuous_clean_df, discrete_df, categorical], axis=1)\n",
    "concat_df.dropna(inplace=True, ignore_index=True) if needed\n",
    "Answers Yes or No, transform in 1 or 0\n",
    "Reduce class imbalance in by grouping, if needed (loses detail, but reduce imbalance) Usually when it is only two values (yes or no, fem or masc) and a cat nom situation. transform into 1 and 0 For the column general health, which it is a cat ord: check the unique values, group if necessary Example: ordinal_vehicle = {'Large': 3, 'Medsize': 2, 'Small': 1} concat_df['vehicle_size'] = concat_df['vehicle_size'].replace(ordinal_vehicle)\n",
    "\n",
    "\n",
    "Which are the 3 most common health conditions that women affected by heart disease suffer from?\n",
    "Maybe Tableau?"
   ]
  },
  {
   "cell_type": "code",
   "execution_count": 1,
   "id": "b0625c47",
   "metadata": {},
   "outputs": [],
   "source": [
    "import pandas as pd\n",
    "import seaborn as sns\n",
    "import matplotlib.pyplot as plt\n",
    "import numpy as np"
   ]
  },
  {
   "cell_type": "code",
   "execution_count": 2,
   "id": "676f1b52",
   "metadata": {},
   "outputs": [],
   "source": [
    "data_cleaned = pd.read_csv('~/Desktop/data_analytics/Week_5/Mid_bootcamp_project/mid_bootcamp_project/data/cleaned/heart_data.csv', sep = ';')"
   ]
  },
  {
   "cell_type": "code",
   "execution_count": 3,
   "id": "9ac94f05",
   "metadata": {},
   "outputs": [],
   "source": [
    "ml_model_data = ['had_heart_attack', 'had_angina', 'had_stroke', 'had_asthma', 'had_skin_cancer', 'had_copd', 'had_depressive_disorder','had_kidney_disease', 'had_arthritis', 'had_diabetes', 'covid_tested_positive']\n",
    "ml_model = data_cleaned[ml_model_data].copy()\n",
    "\n",
    "#\n",
    "# bmi numerical -> binning underweight, overweight, health 0, 1 2 or 1 2 3 cell 4\n",
    "# chi2 contigency cell 5"
   ]
  },
  {
   "cell_type": "code",
   "execution_count": 4,
   "id": "3d76f047",
   "metadata": {},
   "outputs": [],
   "source": [
    "def change_binary(df: pd.DataFrame) -> pd.DataFrame:\n",
    "    '''\n",
    "    This function changes the column value to a numerical one based on the type of value.\n",
    "    Input: the df: pd.DataFrame and the column to be changed in this df \n",
    "    Output: pd.DataFrame with the changed column. \n",
    "    '''\n",
    "    for column in df.columns:\n",
    "        df[column] = df[column].apply(lambda x: 1 if x == 'Yes' else 0)\n",
    "    return df #cell 6 not to bmi "
   ]
  },
  {
   "cell_type": "code",
   "execution_count": 5,
   "id": "cb7c6e35",
   "metadata": {},
   "outputs": [
    {
     "data": {
      "text/html": [
       "<div>\n",
       "<style scoped>\n",
       "    .dataframe tbody tr th:only-of-type {\n",
       "        vertical-align: middle;\n",
       "    }\n",
       "\n",
       "    .dataframe tbody tr th {\n",
       "        vertical-align: top;\n",
       "    }\n",
       "\n",
       "    .dataframe thead th {\n",
       "        text-align: right;\n",
       "    }\n",
       "</style>\n",
       "<table border=\"1\" class=\"dataframe\">\n",
       "  <thead>\n",
       "    <tr style=\"text-align: right;\">\n",
       "      <th></th>\n",
       "      <th>had_heart_attack</th>\n",
       "      <th>had_angina</th>\n",
       "      <th>had_stroke</th>\n",
       "      <th>had_asthma</th>\n",
       "      <th>had_skin_cancer</th>\n",
       "      <th>had_copd</th>\n",
       "      <th>had_depressive_disorder</th>\n",
       "      <th>had_kidney_disease</th>\n",
       "      <th>had_arthritis</th>\n",
       "      <th>had_diabetes</th>\n",
       "      <th>covid_tested_positive</th>\n",
       "    </tr>\n",
       "  </thead>\n",
       "  <tbody>\n",
       "    <tr>\n",
       "      <th>0</th>\n",
       "      <td>0</td>\n",
       "      <td>0</td>\n",
       "      <td>0</td>\n",
       "      <td>0</td>\n",
       "      <td>0</td>\n",
       "      <td>0</td>\n",
       "      <td>0</td>\n",
       "      <td>0</td>\n",
       "      <td>1</td>\n",
       "      <td>0</td>\n",
       "      <td>0</td>\n",
       "    </tr>\n",
       "    <tr>\n",
       "      <th>1</th>\n",
       "      <td>0</td>\n",
       "      <td>0</td>\n",
       "      <td>0</td>\n",
       "      <td>0</td>\n",
       "      <td>1</td>\n",
       "      <td>0</td>\n",
       "      <td>1</td>\n",
       "      <td>0</td>\n",
       "      <td>1</td>\n",
       "      <td>0</td>\n",
       "      <td>1</td>\n",
       "    </tr>\n",
       "    <tr>\n",
       "      <th>2</th>\n",
       "      <td>0</td>\n",
       "      <td>0</td>\n",
       "      <td>0</td>\n",
       "      <td>0</td>\n",
       "      <td>0</td>\n",
       "      <td>0</td>\n",
       "      <td>0</td>\n",
       "      <td>0</td>\n",
       "      <td>1</td>\n",
       "      <td>0</td>\n",
       "      <td>0</td>\n",
       "    </tr>\n",
       "    <tr>\n",
       "      <th>3</th>\n",
       "      <td>0</td>\n",
       "      <td>0</td>\n",
       "      <td>1</td>\n",
       "      <td>0</td>\n",
       "      <td>0</td>\n",
       "      <td>0</td>\n",
       "      <td>0</td>\n",
       "      <td>0</td>\n",
       "      <td>0</td>\n",
       "      <td>1</td>\n",
       "      <td>0</td>\n",
       "    </tr>\n",
       "    <tr>\n",
       "      <th>4</th>\n",
       "      <td>0</td>\n",
       "      <td>0</td>\n",
       "      <td>0</td>\n",
       "      <td>1</td>\n",
       "      <td>1</td>\n",
       "      <td>0</td>\n",
       "      <td>0</td>\n",
       "      <td>0</td>\n",
       "      <td>1</td>\n",
       "      <td>0</td>\n",
       "      <td>0</td>\n",
       "    </tr>\n",
       "    <tr>\n",
       "      <th>...</th>\n",
       "      <td>...</td>\n",
       "      <td>...</td>\n",
       "      <td>...</td>\n",
       "      <td>...</td>\n",
       "      <td>...</td>\n",
       "      <td>...</td>\n",
       "      <td>...</td>\n",
       "      <td>...</td>\n",
       "      <td>...</td>\n",
       "      <td>...</td>\n",
       "      <td>...</td>\n",
       "    </tr>\n",
       "    <tr>\n",
       "      <th>127806</th>\n",
       "      <td>0</td>\n",
       "      <td>0</td>\n",
       "      <td>0</td>\n",
       "      <td>0</td>\n",
       "      <td>0</td>\n",
       "      <td>0</td>\n",
       "      <td>0</td>\n",
       "      <td>0</td>\n",
       "      <td>0</td>\n",
       "      <td>0</td>\n",
       "      <td>0</td>\n",
       "    </tr>\n",
       "    <tr>\n",
       "      <th>127807</th>\n",
       "      <td>0</td>\n",
       "      <td>0</td>\n",
       "      <td>0</td>\n",
       "      <td>0</td>\n",
       "      <td>0</td>\n",
       "      <td>0</td>\n",
       "      <td>0</td>\n",
       "      <td>0</td>\n",
       "      <td>0</td>\n",
       "      <td>0</td>\n",
       "      <td>0</td>\n",
       "    </tr>\n",
       "    <tr>\n",
       "      <th>127808</th>\n",
       "      <td>0</td>\n",
       "      <td>0</td>\n",
       "      <td>0</td>\n",
       "      <td>0</td>\n",
       "      <td>0</td>\n",
       "      <td>0</td>\n",
       "      <td>0</td>\n",
       "      <td>0</td>\n",
       "      <td>0</td>\n",
       "      <td>0</td>\n",
       "      <td>0</td>\n",
       "    </tr>\n",
       "    <tr>\n",
       "      <th>127809</th>\n",
       "      <td>0</td>\n",
       "      <td>0</td>\n",
       "      <td>0</td>\n",
       "      <td>0</td>\n",
       "      <td>0</td>\n",
       "      <td>0</td>\n",
       "      <td>1</td>\n",
       "      <td>0</td>\n",
       "      <td>0</td>\n",
       "      <td>0</td>\n",
       "      <td>1</td>\n",
       "    </tr>\n",
       "    <tr>\n",
       "      <th>127810</th>\n",
       "      <td>0</td>\n",
       "      <td>0</td>\n",
       "      <td>0</td>\n",
       "      <td>0</td>\n",
       "      <td>0</td>\n",
       "      <td>0</td>\n",
       "      <td>0</td>\n",
       "      <td>0</td>\n",
       "      <td>0</td>\n",
       "      <td>0</td>\n",
       "      <td>0</td>\n",
       "    </tr>\n",
       "  </tbody>\n",
       "</table>\n",
       "<p>127811 rows × 11 columns</p>\n",
       "</div>"
      ],
      "text/plain": [
       "        had_heart_attack  had_angina  had_stroke  had_asthma  had_skin_cancer  \\\n",
       "0                      0           0           0           0                0   \n",
       "1                      0           0           0           0                1   \n",
       "2                      0           0           0           0                0   \n",
       "3                      0           0           1           0                0   \n",
       "4                      0           0           0           1                1   \n",
       "...                  ...         ...         ...         ...              ...   \n",
       "127806                 0           0           0           0                0   \n",
       "127807                 0           0           0           0                0   \n",
       "127808                 0           0           0           0                0   \n",
       "127809                 0           0           0           0                0   \n",
       "127810                 0           0           0           0                0   \n",
       "\n",
       "        had_copd  had_depressive_disorder  had_kidney_disease  had_arthritis  \\\n",
       "0              0                        0                   0              1   \n",
       "1              0                        1                   0              1   \n",
       "2              0                        0                   0              1   \n",
       "3              0                        0                   0              0   \n",
       "4              0                        0                   0              1   \n",
       "...          ...                      ...                 ...            ...   \n",
       "127806         0                        0                   0              0   \n",
       "127807         0                        0                   0              0   \n",
       "127808         0                        0                   0              0   \n",
       "127809         0                        1                   0              0   \n",
       "127810         0                        0                   0              0   \n",
       "\n",
       "        had_diabetes  covid_tested_positive  \n",
       "0                  0                      0  \n",
       "1                  0                      1  \n",
       "2                  0                      0  \n",
       "3                  1                      0  \n",
       "4                  0                      0  \n",
       "...              ...                    ...  \n",
       "127806             0                      0  \n",
       "127807             0                      0  \n",
       "127808             0                      0  \n",
       "127809             0                      1  \n",
       "127810             0                      0  \n",
       "\n",
       "[127811 rows x 11 columns]"
      ]
     },
     "execution_count": 5,
     "metadata": {},
     "output_type": "execute_result"
    }
   ],
   "source": [
    "change_binary(ml_model)"
   ]
  },
  {
   "cell_type": "code",
   "execution_count": 15,
   "id": "471a430c",
   "metadata": {
    "scrolled": false
   },
   "outputs": [
    {
     "data": {
      "image/png": "[encoded data removed]",
      "text/plain": [
       "<Figure size 640x480 with 1 Axes>"
      ]
     },
     "metadata": {},
     "output_type": "display_data"
    }
   ],
   "source": [
    "sns.countplot(x = 'had_heart_attack', data = ml_model); # imbalanced distribution \n",
    "plt.show()"
   ]
  },
  {
   "cell_type": "code",
   "execution_count": 6,
   "id": "4038f3aa",
   "metadata": {},
   "outputs": [],
   "source": [
    "y = ml_model['had_heart_attack']\n",
    "X = ml_model.drop(['had_heart_attack'], axis = 1)"
   ]
  },
  {
   "cell_type": "code",
   "execution_count": 7,
   "id": "c827280e",
   "metadata": {},
   "outputs": [],
   "source": [
    "from sklearn.model_selection import train_test_split\n",
    "\n",
    "X_train, X_test, y_train, y_test = train_test_split(X, y, test_size = 0.2, random_state = 10)"
   ]
  },
  {
   "cell_type": "code",
   "execution_count": null,
   "id": "c1f00df0",
   "metadata": {},
   "outputs": [],
   "source": [
    "X_train"
   ]
  },
  {
   "cell_type": "code",
   "execution_count": 8,
   "id": "f0436adf",
   "metadata": {},
   "outputs": [
    {
     "data": {
      "text/html": [
       "<div>\n",
       "<style scoped>\n",
       "    .dataframe tbody tr th:only-of-type {\n",
       "        vertical-align: middle;\n",
       "    }\n",
       "\n",
       "    .dataframe tbody tr th {\n",
       "        vertical-align: top;\n",
       "    }\n",
       "\n",
       "    .dataframe thead th {\n",
       "        text-align: right;\n",
       "    }\n",
       "</style>\n",
       "<table border=\"1\" class=\"dataframe\">\n",
       "  <thead>\n",
       "    <tr style=\"text-align: right;\">\n",
       "      <th></th>\n",
       "      <th>had_angina_0</th>\n",
       "      <th>had_angina_1</th>\n",
       "      <th>had_stroke_0</th>\n",
       "      <th>had_stroke_1</th>\n",
       "      <th>had_asthma_0</th>\n",
       "      <th>had_asthma_1</th>\n",
       "      <th>had_skin_cancer_0</th>\n",
       "      <th>had_skin_cancer_1</th>\n",
       "      <th>had_copd_0</th>\n",
       "      <th>had_copd_1</th>\n",
       "      <th>had_depressive_disorder_0</th>\n",
       "      <th>had_depressive_disorder_1</th>\n",
       "      <th>had_kidney_disease_0</th>\n",
       "      <th>had_kidney_disease_1</th>\n",
       "      <th>had_arthritis_0</th>\n",
       "      <th>had_arthritis_1</th>\n",
       "      <th>had_diabetes_0</th>\n",
       "      <th>had_diabetes_1</th>\n",
       "      <th>covid_tested_positive_0</th>\n",
       "      <th>covid_tested_positive_1</th>\n",
       "    </tr>\n",
       "  </thead>\n",
       "  <tbody>\n",
       "    <tr>\n",
       "      <th>93323</th>\n",
       "      <td>1.0</td>\n",
       "      <td>0.0</td>\n",
       "      <td>1.0</td>\n",
       "      <td>0.0</td>\n",
       "      <td>1.0</td>\n",
       "      <td>0.0</td>\n",
       "      <td>1.0</td>\n",
       "      <td>0.0</td>\n",
       "      <td>1.0</td>\n",
       "      <td>0.0</td>\n",
       "      <td>0.0</td>\n",
       "      <td>1.0</td>\n",
       "      <td>1.0</td>\n",
       "      <td>0.0</td>\n",
       "      <td>0.0</td>\n",
       "      <td>1.0</td>\n",
       "      <td>1.0</td>\n",
       "      <td>0.0</td>\n",
       "      <td>0.0</td>\n",
       "      <td>1.0</td>\n",
       "    </tr>\n",
       "    <tr>\n",
       "      <th>122926</th>\n",
       "      <td>1.0</td>\n",
       "      <td>0.0</td>\n",
       "      <td>1.0</td>\n",
       "      <td>0.0</td>\n",
       "      <td>0.0</td>\n",
       "      <td>1.0</td>\n",
       "      <td>1.0</td>\n",
       "      <td>0.0</td>\n",
       "      <td>1.0</td>\n",
       "      <td>0.0</td>\n",
       "      <td>1.0</td>\n",
       "      <td>0.0</td>\n",
       "      <td>1.0</td>\n",
       "      <td>0.0</td>\n",
       "      <td>1.0</td>\n",
       "      <td>0.0</td>\n",
       "      <td>1.0</td>\n",
       "      <td>0.0</td>\n",
       "      <td>1.0</td>\n",
       "      <td>0.0</td>\n",
       "    </tr>\n",
       "    <tr>\n",
       "      <th>31740</th>\n",
       "      <td>1.0</td>\n",
       "      <td>0.0</td>\n",
       "      <td>1.0</td>\n",
       "      <td>0.0</td>\n",
       "      <td>1.0</td>\n",
       "      <td>0.0</td>\n",
       "      <td>1.0</td>\n",
       "      <td>0.0</td>\n",
       "      <td>1.0</td>\n",
       "      <td>0.0</td>\n",
       "      <td>1.0</td>\n",
       "      <td>0.0</td>\n",
       "      <td>1.0</td>\n",
       "      <td>0.0</td>\n",
       "      <td>1.0</td>\n",
       "      <td>0.0</td>\n",
       "      <td>1.0</td>\n",
       "      <td>0.0</td>\n",
       "      <td>0.0</td>\n",
       "      <td>1.0</td>\n",
       "    </tr>\n",
       "    <tr>\n",
       "      <th>100438</th>\n",
       "      <td>1.0</td>\n",
       "      <td>0.0</td>\n",
       "      <td>1.0</td>\n",
       "      <td>0.0</td>\n",
       "      <td>1.0</td>\n",
       "      <td>0.0</td>\n",
       "      <td>1.0</td>\n",
       "      <td>0.0</td>\n",
       "      <td>1.0</td>\n",
       "      <td>0.0</td>\n",
       "      <td>1.0</td>\n",
       "      <td>0.0</td>\n",
       "      <td>1.0</td>\n",
       "      <td>0.0</td>\n",
       "      <td>1.0</td>\n",
       "      <td>0.0</td>\n",
       "      <td>1.0</td>\n",
       "      <td>0.0</td>\n",
       "      <td>1.0</td>\n",
       "      <td>0.0</td>\n",
       "    </tr>\n",
       "    <tr>\n",
       "      <th>120811</th>\n",
       "      <td>1.0</td>\n",
       "      <td>0.0</td>\n",
       "      <td>1.0</td>\n",
       "      <td>0.0</td>\n",
       "      <td>1.0</td>\n",
       "      <td>0.0</td>\n",
       "      <td>1.0</td>\n",
       "      <td>0.0</td>\n",
       "      <td>1.0</td>\n",
       "      <td>0.0</td>\n",
       "      <td>1.0</td>\n",
       "      <td>0.0</td>\n",
       "      <td>1.0</td>\n",
       "      <td>0.0</td>\n",
       "      <td>1.0</td>\n",
       "      <td>0.0</td>\n",
       "      <td>1.0</td>\n",
       "      <td>0.0</td>\n",
       "      <td>1.0</td>\n",
       "      <td>0.0</td>\n",
       "    </tr>\n",
       "  </tbody>\n",
       "</table>\n",
       "</div>"
      ],
      "text/plain": [
       "        had_angina_0  had_angina_1  had_stroke_0  had_stroke_1  had_asthma_0  \\\n",
       "93323            1.0           0.0           1.0           0.0           1.0   \n",
       "122926           1.0           0.0           1.0           0.0           0.0   \n",
       "31740            1.0           0.0           1.0           0.0           1.0   \n",
       "100438           1.0           0.0           1.0           0.0           1.0   \n",
       "120811           1.0           0.0           1.0           0.0           1.0   \n",
       "\n",
       "        had_asthma_1  had_skin_cancer_0  had_skin_cancer_1  had_copd_0  \\\n",
       "93323            0.0                1.0                0.0         1.0   \n",
       "122926           1.0                1.0                0.0         1.0   \n",
       "31740            0.0                1.0                0.0         1.0   \n",
       "100438           0.0                1.0                0.0         1.0   \n",
       "120811           0.0                1.0                0.0         1.0   \n",
       "\n",
       "        had_copd_1  had_depressive_disorder_0  had_depressive_disorder_1  \\\n",
       "93323          0.0                        0.0                        1.0   \n",
       "122926         0.0                        1.0                        0.0   \n",
       "31740          0.0                        1.0                        0.0   \n",
       "100438         0.0                        1.0                        0.0   \n",
       "120811         0.0                        1.0                        0.0   \n",
       "\n",
       "        had_kidney_disease_0  had_kidney_disease_1  had_arthritis_0  \\\n",
       "93323                    1.0                   0.0              0.0   \n",
       "122926                   1.0                   0.0              1.0   \n",
       "31740                    1.0                   0.0              1.0   \n",
       "100438                   1.0                   0.0              1.0   \n",
       "120811                   1.0                   0.0              1.0   \n",
       "\n",
       "        had_arthritis_1  had_diabetes_0  had_diabetes_1  \\\n",
       "93323               1.0             1.0             0.0   \n",
       "122926              0.0             1.0             0.0   \n",
       "31740               0.0             1.0             0.0   \n",
       "100438              0.0             1.0             0.0   \n",
       "120811              0.0             1.0             0.0   \n",
       "\n",
       "        covid_tested_positive_0  covid_tested_positive_1  \n",
       "93323                       0.0                      1.0  \n",
       "122926                      1.0                      0.0  \n",
       "31740                       0.0                      1.0  \n",
       "100438                      1.0                      0.0  \n",
       "120811                      1.0                      0.0  "
      ]
     },
     "execution_count": 8,
     "metadata": {},
     "output_type": "execute_result"
    }
   ],
   "source": [
    "from sklearn.preprocessing import OneHotEncoder \n",
    "\n",
    "encoder = OneHotEncoder() \n",
    "encoder.fit(X_train)\n",
    "\n",
    "#path = \"./\"\n",
    "#filename = \"one_hot_encoder.pkl\"\n",
    "#with open(path+filename, \"wb\") as file:\n",
    "#    pickle.dump(encoder, file)\n",
    "\n",
    "X_train_np = encoder.transform(X_train).toarray()\n",
    "X_test_np  = encoder.transform(X_test).toarray()\n",
    "\n",
    "X_train_encoded_df = pd.DataFrame(X_train_np, columns = encoder.get_feature_names_out(), index = X_train.index)\n",
    "X_test_encoded_df = pd.DataFrame(X_test_np,  columns = encoder.get_feature_names_out(), index = X_test.index)\n",
    "X_train_encoded_df.head()"
   ]
  },
  {
   "cell_type": "code",
   "execution_count": 14,
   "id": "a42bda38",
   "metadata": {},
   "outputs": [
    {
     "data": {
      "text/plain": [
       "(102248, 20)"
      ]
     },
     "execution_count": 14,
     "metadata": {},
     "output_type": "execute_result"
    }
   ],
   "source": [
    "X_train_encoded_df.shape"
   ]
  },
  {
   "cell_type": "code",
   "execution_count": 9,
   "id": "e1dc5319",
   "metadata": {},
   "outputs": [
    {
     "name": "stdout",
     "output_type": "stream",
     "text": [
      "The accuracy of the model in the TEST set is: 0.96\n"
     ]
    }
   ],
   "source": [
    "from sklearn.linear_model import LogisticRegression\n",
    "\n",
    "lr = LogisticRegression(random_state = 69)\n",
    "lr.fit(X_train_encoded_df, y_train)\n",
    "\n",
    "\n",
    "print(\"The accuracy of the model in the TEST set is: {:.2f}\".format(lr.score(X_test_encoded_df, y_test)))\n",
    "y_train_pred = lr.predict(X_train_encoded_df)\n",
    "y_test_pred = lr.predict(X_test_encoded_df )"
   ]
  },
  {
   "cell_type": "code",
   "execution_count": 10,
   "id": "ea0becfc",
   "metadata": {},
   "outputs": [
    {
     "name": "stdout",
     "output_type": "stream",
     "text": [
      "The accuracy in the TEST set is: 0.96\n",
      "The precision in the TEST set is: 0.47\n",
      "The recall in the TEST set is: 0.13\n",
      "The F1 in the TEST set is: 0.20\n",
      "The Kappa in the TEST set is: 0.18\n"
     ]
    }
   ],
   "source": [
    "from sklearn.metrics import accuracy_score, precision_score, recall_score, f1_score, cohen_kappa_score\n",
    "\n",
    "print(\"The accuracy in the TEST set is: {:.2f}\".format(accuracy_score(y_test,y_test_pred)))\n",
    "print(\"The precision in the TEST set is: {:.2f}\".format(precision_score(y_test,y_test_pred)))\n",
    "print(\"The recall in the TEST set is: {:.2f}\".format(recall_score(y_test,y_test_pred)))\n",
    "print(\"The F1 in the TEST set is: {:.2f}\".format(f1_score(y_test,y_test_pred)))\n",
    "print(\"The Kappa in the TEST set is: {:.2f}\".format(cohen_kappa_score(y_test,y_test_pred)))"
   ]
  },
  {
   "cell_type": "code",
   "execution_count": 11,
   "id": "4d9e13d9",
   "metadata": {},
   "outputs": [
    {
     "data": {
      "image/png": "[encoded data removed]",
      "text/plain": [
       "<Figure size 640x480 with 2 Axes>"
      ]
     },
     "metadata": {},
     "output_type": "display_data"
    }
   ],
   "source": [
    "from sklearn.metrics import confusion_matrix, ConfusionMatrixDisplay\n",
    "\n",
    "cm_test = confusion_matrix(y_test,y_test_pred)\n",
    "disp = ConfusionMatrixDisplay(confusion_matrix=cm_test, display_labels=lr.classes_)\n",
    "disp.plot()\n",
    "plt.show()"
   ]
  },
  {
   "cell_type": "code",
   "execution_count": 13,
   "id": "12007e65",
   "metadata": {},
   "outputs": [
    {
     "ename": "TypeError",
     "evalue": "The passed model is not callable and cannot be analyzed directly with the given masker! Model: LogisticRegression(random_state=69)",
     "output_type": "error",
     "traceback": [
      "\u001b[0;31m---------------------------------------------------------------------------\u001b[0m",
      "\u001b[0;31mTypeError\u001b[0m                                 Traceback (most recent call last)",
      "Cell \u001b[0;32mIn[13], line 3\u001b[0m\n\u001b[1;32m      1\u001b[0m \u001b[38;5;28;01mimport\u001b[39;00m \u001b[38;5;21;01mshap\u001b[39;00m\n\u001b[0;32m----> 3\u001b[0m explainer \u001b[38;5;241m=\u001b[39m \u001b[43mshap\u001b[49m\u001b[38;5;241;43m.\u001b[39;49m\u001b[43mExplainer\u001b[49m\u001b[43m(\u001b[49m\u001b[43mlr\u001b[49m\u001b[43m)\u001b[49m\n\u001b[1;32m      5\u001b[0m \u001b[38;5;66;03m# Calculate SHAP values for a subset of the test set\u001b[39;00m\n\u001b[1;32m      6\u001b[0m shap_values \u001b[38;5;241m=\u001b[39m explainer\u001b[38;5;241m.\u001b[39mshap_values(y_test_pred)\n",
      "File \u001b[0;32m~/Desktop/data_analytics/Week_5/Mid_bootcamp_project/mid_project/lib/python3.11/site-packages/shap/explainers/_explainer.py:174\u001b[0m, in \u001b[0;36mExplainer.__init__\u001b[0;34m(self, model, masker, link, algorithm, output_names, feature_names, linearize_link, seed, **kwargs)\u001b[0m\n\u001b[1;32m    170\u001b[0m             algorithm \u001b[38;5;241m=\u001b[39m \u001b[38;5;124m\"\u001b[39m\u001b[38;5;124mpermutation\u001b[39m\u001b[38;5;124m\"\u001b[39m\n\u001b[1;32m    172\u001b[0m     \u001b[38;5;66;03m# if we get here then we don't know how to handle what was given to us\u001b[39;00m\n\u001b[1;32m    173\u001b[0m     \u001b[38;5;28;01melse\u001b[39;00m:\n\u001b[0;32m--> 174\u001b[0m         \u001b[38;5;28;01mraise\u001b[39;00m \u001b[38;5;167;01mTypeError\u001b[39;00m(\u001b[38;5;124m\"\u001b[39m\u001b[38;5;124mThe passed model is not callable and cannot be analyzed directly with the given masker! Model: \u001b[39m\u001b[38;5;124m\"\u001b[39m \u001b[38;5;241m+\u001b[39m \u001b[38;5;28mstr\u001b[39m(model))\n\u001b[1;32m    176\u001b[0m \u001b[38;5;66;03m# build the right subclass\u001b[39;00m\n\u001b[1;32m    177\u001b[0m \u001b[38;5;28;01mif\u001b[39;00m algorithm \u001b[38;5;241m==\u001b[39m \u001b[38;5;124m\"\u001b[39m\u001b[38;5;124mexact\u001b[39m\u001b[38;5;124m\"\u001b[39m:\n",
      "\u001b[0;31mTypeError\u001b[0m: The passed model is not callable and cannot be analyzed directly with the given masker! Model: LogisticRegression(random_state=69)"
     ]
    }
   ],
   "source": [
    "import shap\n",
    "\n",
    "explainer = shap.Explainer(lr)\n",
    "\n",
    "# Calculate SHAP values for a subset of the test set\n",
    "shap_values = explainer.shap_values(y_test_pred)\n",
    "\n",
    "# Visualize the summary plot\n",
    "shap.summary_plot(shap_values, y_test_pred, feature_names = X_test_encoded_df.columns)\n"
   ]
  },
  {
   "cell_type": "code",
   "execution_count": null,
   "id": "5938b680",
   "metadata": {},
   "outputs": [],
   "source": [
    "import shap\n",
    "\n",
    "# Assuming X_train_encoded_df is your training data and X_test_encoded_df is your test data\n",
    "# Use the SHAP explainer without specifying the algorithm\n",
    "explainer = shap.Explainer(lr)\n",
    "\n",
    "# Calculate SHAP values for the training set\n",
    "shap_values_train = explainer.shap_values(X_train_encoded_df)\n",
    "\n",
    "# Calculate SHAP values for the test set\n",
    "shap_values_test = explainer.shap_values(X_test_encoded_df)\n",
    "\n",
    "# Visualize the summary plot for the test set\n",
    "shap.summary_plot(shap_values_test, X_test_encoded_df, feature_names=X_train_encoded_df.columns)\n"
   ]
  },
  {
   "cell_type": "code",
   "execution_count": null,
   "id": "8bc38179",
   "metadata": {},
   "outputs": [],
   "source": [
    "import shap\n",
    "from sklearn.linear_model import LogisticRegression\n",
    "from sklearn.tree import DecisionTreeClassifier\n",
    "from sklearn.model_selection import train_test_split\n",
    "\n",
    "# Assuming you already have a trained logistic regression model 'lr'\n",
    "# You don't need to retrain it, just use it directly\n",
    "lr = LogisticRegression(multi_class='multinomial', random_state=69, solver='saga')\n",
    "lr.fit(X_train_encoded_df, y_train)\n",
    "\n",
    "# Split the data for creating a surrogate model\n",
    "X_train_surrogate, X_valid_surrogate, y_train_surrogate, y_valid_surrogate = train_test_split(\n",
    "    X_train_encoded_df, y_train, test_size=0.2, random_state=42\n",
    ")\n",
    "\n",
    "# Train a Decision Tree classifier as a surrogate model\n",
    "surrogate_model = DecisionTreeClassifier(random_state=42)\n",
    "surrogate_model.fit(X_train_surrogate, y_train_surrogate)\n",
    "\n",
    "# Use the SHAP explainer with the surrogate model\n",
    "explainer = shap.Explainer(surrogate_model)\n",
    "\n",
    "# Calculate SHAP values for the test set\n",
    "shap_values_test = explainer.shap_values(X_test_encoded_df)\n",
    "\n",
    "# Visualize the summary plot for the test set\n",
    "shap.summary_plot(shap_values_test, X_test_encoded_df, feature_names=X_train_encoded_df.columns)\n"
   ]
  },
  {
   "cell_type": "code",
   "execution_count": null,
   "id": "bdfac17a",
   "metadata": {},
   "outputs": [],
   "source": []
  },
  {
   "cell_type": "code",
   "execution_count": null,
   "id": "f083389d",
   "metadata": {},
   "outputs": [],
   "source": [
    "def hist_out_plot(df: pd.DataFrame, column: str) -> None:\n",
    "    '''\n",
    "    This function plots two types of graphs for the same column, in a way one can compare them: one can see\n",
    "    the quartiles, means, and outliers due to their shared x-axis. \n",
    "    Input: pd.DataFrame\n",
    "    Output: Boxplot and histogram for each column. \n",
    "    '''\n",
    "\n",
    "    fig, (ax_box, ax_hist) = plt.subplots(2, sharex=True, gridspec_kw={\"height_ratios\": (.15, .85)})\n",
    "    sns.boxplot(data=df, x=column, ax=ax_box)\n",
    "    sns.histplot(data=df, x=column, ax=ax_hist)\n",
    "    plt.show()\n"
   ]
  },
  {
   "cell_type": "code",
   "execution_count": null,
   "id": "a8bec071",
   "metadata": {},
   "outputs": [],
   "source": [
    "hist_out_plot(data_cleaned, \"bmi\")"
   ]
  },
  {
   "cell_type": "code",
   "execution_count": null,
   "id": "197f813f",
   "metadata": {},
   "outputs": [],
   "source": [
    "data_cleaned['bmi'].skew()"
   ]
  },
  {
   "cell_type": "code",
   "execution_count": null,
   "id": "f1469d77",
   "metadata": {},
   "outputs": [],
   "source": [
    "def log_transform_clean(x):\n",
    "    \n",
    "    x = np.log10(x)\n",
    "    if ( x > 0 ):\n",
    "        return x\n",
    "\n",
    "data_cleaned['bmi'] = list(map(log_transform_clean, data_cleaned['bmi']))\n",
    "sns.displot(data_cleaned['bmi'])\n",
    "plt.show()"
   ]
  },
  {
   "cell_type": "code",
   "execution_count": null,
   "id": "73d23509",
   "metadata": {},
   "outputs": [],
   "source": [
    "data_cleaned['bmi'].skew()"
   ]
  },
  {
   "cell_type": "code",
   "execution_count": null,
   "id": "f486942e",
   "metadata": {},
   "outputs": [],
   "source": [
    "bmi_mean = data_cleaned.groupby(['had_heart_attack'])['bmi'].mean()\n",
    "bmi_mean"
   ]
  },
  {
   "cell_type": "code",
   "execution_count": null,
   "id": "064aa349",
   "metadata": {},
   "outputs": [],
   "source": [
    "# Ho: there are no relationship/differences\n",
    "# Ha: there are relationship/differences\n",
    "\n",
    "# p_value < alpha -> Reject H0 // alpha = 0.05\n",
    "# ecig and heart attack are related"
   ]
  },
  {
   "cell_type": "code",
   "execution_count": null,
   "id": "67b1b05b",
   "metadata": {},
   "outputs": [],
   "source": [
    "# We are considering the BMI values (we did a log trans. because even the outliers are important) and the had_heart_attack\n",
    "# which can be \"Yes\" or \"No\" -- I know mean of the BMI value should be the one used in terms of ttest1samp, but I am\n",
    "# using the log value of 25 (because BMI > 25 is above the \"healthy\" BMI) - my hypothesis is that when is above 25,\n",
    "# you're more likely to have had answer yes for a heart attack.\n",
    "\n",
    "\n",
    "# alpha of 0.05 (p-value threshold)\n",
    "# One sided test - left:\n",
    "# Null hypothesis or H0: bmi ≥ 1.4\n",
    "# Alternative hyp or H1: bmi < 1.4\n",
    "\n",
    "\n",
    "had_heart_attack_yes = 'Yes'\n",
    "bmi_heart = data_cleaned[data_cleaned['had_heart_attack'].apply(lambda x: had_heart_attack_yes in x)]\n",
    "bmi_heart_yes = bmi_heart.loc[:, 'bmi']"
   ]
  },
  {
   "cell_type": "code",
   "execution_count": null,
   "id": "754bbf84",
   "metadata": {},
   "outputs": [],
   "source": [
    "from scipy.stats import ttest_1samp\n",
    "stat, pval = ttest_1samp(bmi_heart_yes, popmean = 1.4, alternative = \"less\")\n",
    "stat, pval"
   ]
  },
  {
   "cell_type": "code",
   "execution_count": null,
   "id": "7cf72663",
   "metadata": {
    "scrolled": true
   },
   "outputs": [],
   "source": [
    "log_transform_clean(25)"
   ]
  },
  {
   "cell_type": "code",
   "execution_count": null,
   "id": "6624811e",
   "metadata": {},
   "outputs": [],
   "source": [
    "# p_value is bigger than 𝛼 = 0.05 so we accept the null hypothesis. "
   ]
  },
  {
   "cell_type": "code",
   "execution_count": null,
   "id": "e59c02dc",
   "metadata": {},
   "outputs": [],
   "source": [
    "log_transform_clean(18.5)"
   ]
  },
  {
   "cell_type": "code",
   "execution_count": null,
   "id": "c4244595",
   "metadata": {},
   "outputs": [],
   "source": [
    "# But also when your BMI is too low, your chances of having a heart attack increase, so I did this: \n",
    "\n",
    "# alpha of 0.05 (p-value threshold)\n",
    "# One sided test - left:\n",
    "# Null hypothesis or H0: bmi ≤ 1.27\n",
    "# Alternative hyp or H1: bmi > 1.27"
   ]
  },
  {
   "cell_type": "code",
   "execution_count": null,
   "id": "6175f7f9",
   "metadata": {},
   "outputs": [],
   "source": [
    "stat, pval = ttest_1samp(bmi_heart_yes, popmean = 1.27, alternative = \"greater\")\n",
    "stat, pval"
   ]
  },
  {
   "cell_type": "code",
   "execution_count": null,
   "id": "3d39f3c5",
   "metadata": {},
   "outputs": [],
   "source": [
    "# p_value is smaller than  𝛼 = 0.05\n",
    "# Therefore we reject the null hypothesis\n",
    "# which says that in the case of THIS dataset, having a lower BMI is not related to heart attack.\n"
   ]
  },
  {
   "cell_type": "code",
   "execution_count": null,
   "id": "eba34115",
   "metadata": {},
   "outputs": [],
   "source": [
    "ecig_heart = pd.crosstab(data_cleaned['e_cigarette_usage'], data_cleaned['had_heart_attack'])\n",
    "ecig_heart"
   ]
  },
  {
   "cell_type": "code",
   "execution_count": null,
   "id": "6d156fda",
   "metadata": {},
   "outputs": [],
   "source": [
    "import scipy.stats as st"
   ]
  },
  {
   "cell_type": "code",
   "execution_count": null,
   "id": "c0bd0bad",
   "metadata": {},
   "outputs": [],
   "source": [
    "st.chi2_contingency(ecig_heart)"
   ]
  },
  {
   "cell_type": "markdown",
   "id": "4d6bb452",
   "metadata": {},
   "source": [
    "def train_models(models_list:list, X_train: np.ndarray, y_train: np.ndarray) -> list:\n",
    "    '''\n",
    "    This function trains different models at the same time\n",
    "    Input: A list of the models to train, the X_train and the y_train\n",
    "    Output: A list of trained models \n",
    "    '''\n",
    "    \n",
    "    trained_models = []\n",
    "    \n",
    "    for model in models_list: \n",
    "        model.fit(X_train, y_train)\n",
    "        trained_models.append(model)\n",
    "    return trained_models"
   ]
  },
  {
   "cell_type": "markdown",
   "id": "d4b89866",
   "metadata": {},
   "source": [
    "from sklearn.neighbors import KNeighborsRegressor\n",
    "\n",
    "lr = LogisticRegression()\n",
    "\n",
    "\n",
    "models = [ln, knn]\n",
    "trained_models = train_models(models, X_train_new_scaled_df, y_train)"
   ]
  },
  {
   "cell_type": "markdown",
   "id": "7f1d3c26",
   "metadata": {},
   "source": [
    "y_train_pred_lr = lr.predict(X_train_new_scaled_df)\n",
    "y_test_pred_lr  = lr.predict(X_test_new_scaled_df)\n",
    "\n",
    "y_train_pred_knn = knn.predict(X_train_new_scaled_df)\n",
    "y_test_pred_knn  = knn.predict(X_test_new_scaled_df)\n"
   ]
  },
  {
   "cell_type": "code",
   "execution_count": null,
   "id": "7f117b6c",
   "metadata": {},
   "outputs": [],
   "source": []
  },
  {
   "cell_type": "code",
   "execution_count": null,
   "id": "b128c92d",
   "metadata": {},
   "outputs": [],
   "source": []
  }
 ],
 "metadata": {
  "kernelspec": {
   "display_name": "mid_project",
   "language": "python",
   "name": "mid_project"
  },
  "language_info": {
   "codemirror_mode": {
    "name": "ipython",
    "version": 3
   },
   "file_extension": ".py",
   "mimetype": "text/x-python",
   "name": "python",
   "nbconvert_exporter": "python",
   "pygments_lexer": "ipython3",
   "version": "3.11.5"
  }
 },
 "nbformat": 4,
 "nbformat_minor": 5
}
